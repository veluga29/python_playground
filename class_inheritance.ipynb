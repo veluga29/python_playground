{
 "cells": [
  {
   "cell_type": "markdown",
   "metadata": {},
   "source": [
    "# 클래스 상속"
   ]
  },
  {
   "cell_type": "markdown",
   "metadata": {},
   "source": [
    "## 1. 클래스 상속\n",
    "- 물려받은 기능을 유지한채로 다른 기능을 추가할 때 사용하는 기능입니다\n",
    "- 기능을 물려주는 클래스를 기반 클래스(base class), 상속을 받아 새롭게 만드는 클래스를 파생 클래스(derived class)라고 합니다."
   ]
  },
  {
   "cell_type": "markdown",
   "metadata": {},
   "source": [
    "```\n",
    "class 기반클래스이름:\n",
    "    코드\n",
    " \n",
    "class 파생클래스이름(기반클래스이름):\n",
    "    코드\n",
    "```"
   ]
  },
  {
   "cell_type": "code",
   "execution_count": 2,
   "metadata": {},
   "outputs": [
    {
     "name": "stdout",
     "output_type": "stream",
     "text": [
      "Run, run, herd the sheeps!!\n",
      "Bow Wow!!!\n"
     ]
    }
   ],
   "source": [
    "class Dog:\n",
    "    def greeting(self):\n",
    "        print(\"Bow Wow!!!\")\n",
    "        \n",
    "class SheepDog(Dog):\n",
    "    def herding(self):\n",
    "        print(\"Run, run, herd the sheeps!!\")\n",
    "\n",
    "border_collie = SheepDog()\n",
    "border_collie.herding()  # 파생 클래스 SheepDog의 메서드 호출\n",
    "border_collie.greeting()  # 기반 클래스 Dog의 메서드 호출"
   ]
  },
  {
   "cell_type": "markdown",
   "metadata": {},
   "source": [
    "- 상속 관계 확인하기"
   ]
  },
  {
   "cell_type": "code",
   "execution_count": 3,
   "metadata": {},
   "outputs": [
    {
     "data": {
      "text/plain": [
       "True"
      ]
     },
     "execution_count": 3,
     "metadata": {},
     "output_type": "execute_result"
    }
   ],
   "source": [
    "issubclass(SheepDog, Dog)"
   ]
  },
  {
   "cell_type": "markdown",
   "metadata": {},
   "source": [
    "## 2. 상속관계 VS 포함관계"
   ]
  },
  {
   "cell_type": "markdown",
   "metadata": {},
   "source": [
    "### - 상속관계: 명확하게 같은 종류이며 동등한 관계일 때 사용합니다.\n",
    "- is-a 관계 (SheepDog is a Dog.)"
   ]
  },
  {
   "cell_type": "markdown",
   "metadata": {},
   "source": [
    "### - 포함관계\n",
    "- has-a 관계 (DogList has a Dog.)\n",
    "- 속성에 인스턴스를 넣는 포함 방식을 사용하면 됩니다."
   ]
  },
  {
   "cell_type": "markdown",
   "metadata": {},
   "source": [
    "## 3. 기반 클래스의 속성 사용하기"
   ]
  },
  {
   "cell_type": "markdown",
   "metadata": {},
   "source": [
    "- 기반 클래스 Dog의 \\_\\_init__ 메서드가 호출되지 않았기 때문에, 실행시 에러가 납니다.\n",
    "- 즉, Dog의 \\_\\_init__ 메서드가 호출되지 않으면 self.hello = '안녕하세요.'도 실행되지 않아서 속성이 만들어지지 않습니다."
   ]
  },
  {
   "cell_type": "code",
   "execution_count": 5,
   "metadata": {},
   "outputs": [
    {
     "name": "stdout",
     "output_type": "stream",
     "text": [
      "SheepDog __init__\n",
      "Sheep\n"
     ]
    }
   ],
   "source": [
    "class Dog:\n",
    "    def __init__(self):\n",
    "        print('Dog __init__')\n",
    "        self.hello = 'Bow Wow!!'\n",
    "\n",
    "class SheepDog(Dog):\n",
    "    def __init__(self):\n",
    "        print('SheepDog __init__')\n",
    "        self.target = 'Sheep'\n",
    "        \n",
    "border_collie = SheepDog()\n",
    "print(border_collie.target)"
   ]
  },
  {
   "cell_type": "code",
   "execution_count": 6,
   "metadata": {},
   "outputs": [
    {
     "ename": "AttributeError",
     "evalue": "'SheepDog' object has no attribute 'hello'",
     "output_type": "error",
     "traceback": [
      "\u001b[1;31m---------------------------------------------------------------------------\u001b[0m",
      "\u001b[1;31mAttributeError\u001b[0m                            Traceback (most recent call last)",
      "\u001b[1;32m<ipython-input-6-de44dcfa997d>\u001b[0m in \u001b[0;36m<module>\u001b[1;34m\u001b[0m\n\u001b[1;32m----> 1\u001b[1;33m \u001b[0mprint\u001b[0m\u001b[1;33m(\u001b[0m\u001b[0mborder_collie\u001b[0m\u001b[1;33m.\u001b[0m\u001b[0mhello\u001b[0m\u001b[1;33m)\u001b[0m\u001b[1;33m\u001b[0m\u001b[1;33m\u001b[0m\u001b[0m\n\u001b[0m",
      "\u001b[1;31mAttributeError\u001b[0m: 'SheepDog' object has no attribute 'hello'"
     ]
    }
   ],
   "source": [
    "print(border_collie.hello)  # 기반 클래스의 속성을 출력하려고 하면 에러가 발생함"
   ]
  },
  {
   "cell_type": "markdown",
   "metadata": {},
   "source": [
    "- 이때는 super()를 사용해서 기반 클래스의 \\_\\_init__ 메서드를 호출해줍니다."
   ]
  },
  {
   "cell_type": "code",
   "execution_count": 8,
   "metadata": {},
   "outputs": [
    {
     "name": "stdout",
     "output_type": "stream",
     "text": [
      "SheepDog __init__\n",
      "Dog __init__\n",
      "Sheep\n",
      "Bow Wow!!\n"
     ]
    }
   ],
   "source": [
    "class Dog:\n",
    "    def __init__(self):\n",
    "        print('Dog __init__')\n",
    "        self.hello = 'Bow Wow!!'\n",
    "\n",
    "class SheepDog(Dog):\n",
    "    def __init__(self):\n",
    "        print('SheepDog __init__')\n",
    "        super().__init__()  # super()로 기반 클래스의 __init__ 메서드 호출\n",
    "        self.target = 'Sheep'\n",
    "        \n",
    "border_collie = SheepDog()\n",
    "print(border_collie.target)\n",
    "print(border_collie.hello)"
   ]
  },
  {
   "cell_type": "markdown",
   "metadata": {},
   "source": [
    "- 기반 클래스를 초기화하지 않아도 되는 경우\n",
    "  - 파생 클래스에서 \\_\\_init__ 메서드를 생략한다면 기반 클래스의 \\_\\_init__이 자동으로 호출되므로 super()는 사용하지 않아도 됩니다."
   ]
  },
  {
   "cell_type": "code",
   "execution_count": 9,
   "metadata": {},
   "outputs": [
    {
     "name": "stdout",
     "output_type": "stream",
     "text": [
      "Dog __init__\n",
      "Bow Wow!!\n"
     ]
    }
   ],
   "source": [
    "class Dog:\n",
    "    def __init__(self):\n",
    "        print('Dog __init__')\n",
    "        self.hello = 'Bow Wow!!'\n",
    "\n",
    "class SheepDog(Dog):\n",
    "    pass\n",
    "        \n",
    "border_collie = SheepDog()\n",
    "print(border_collie.hello)"
   ]
  },
  {
   "cell_type": "markdown",
   "metadata": {},
   "source": [
    "### ※ 좀 더 명확한 super() 사용하기"
   ]
  },
  {
   "cell_type": "code",
   "execution_count": null,
   "metadata": {},
   "outputs": [],
   "source": [
    "class Student(Person):\n",
    "    def __init__(self):\n",
    "        print('Student __init__')\n",
    "        super(Student, self).__init__()     # super(파생클래스, self)로 기반 클래스의 메서드 호출\n",
    "        self.school = '파이썬 코딩 도장'"
   ]
  },
  {
   "cell_type": "markdown",
   "metadata": {},
   "source": [
    "## 4. 메서드 오버라이딩"
   ]
  },
  {
   "cell_type": "markdown",
   "metadata": {},
   "source": [
    "- 기반 클래스의 메서드를 무시하고 새로운 메서드를 만듭니다.\n",
    "- 보통 프로그램에서 어떤 기능이 같은 메서드 이름으로 계속 사용되어야 할 때 메서드 오버라이딩을 활용합니다.\n",
    "- 메서드 오버라이딩은 원래 기능을 유지하면서 새로운 기능을 덧붙일 때 사용합니다."
   ]
  },
  {
   "cell_type": "code",
   "execution_count": 12,
   "metadata": {},
   "outputs": [
    {
     "name": "stdout",
     "output_type": "stream",
     "text": [
      "Bow Wow!! My mission is herding sheeps\n"
     ]
    }
   ],
   "source": [
    "class Dog:\n",
    "    def greeting(self):\n",
    "        print(\"Bow Wow!!\")\n",
    "\n",
    "class SheepDog(Dog):\n",
    "    def greeting(self):\n",
    "        print(\"Bow Wow!! My mission is herding sheeps\")\n",
    "\n",
    "border_collie = SheepDog()\n",
    "border_collie.greeting()"
   ]
  },
  {
   "cell_type": "markdown",
   "metadata": {},
   "source": [
    "- 기반 클래스의 메서드를 재활용해 중복을 더 줄일 수 있습니다."
   ]
  },
  {
   "cell_type": "code",
   "execution_count": 13,
   "metadata": {},
   "outputs": [
    {
     "name": "stdout",
     "output_type": "stream",
     "text": [
      "Bow Wow!!\n",
      "My mission is herding sheeps\n"
     ]
    }
   ],
   "source": [
    "class Dog:\n",
    "    def greeting(self):\n",
    "        print(\"Bow Wow!!\")\n",
    "\n",
    "class SheepDog(Dog):\n",
    "    def greeting(self):\n",
    "        super().greeting()  # 기반 클래스의 메서드를 호출하여 중복을 줄임\n",
    "        print(\"My mission is herding sheeps\")\n",
    "\n",
    "border_collie = SheepDog()\n",
    "border_collie.greeting()"
   ]
  },
  {
   "cell_type": "markdown",
   "metadata": {},
   "source": [
    "## 5. 다중 상속"
   ]
  },
  {
   "cell_type": "code",
   "execution_count": 15,
   "metadata": {},
   "outputs": [
    {
     "name": "stdout",
     "output_type": "stream",
     "text": [
      "Bow Wow!!\n",
      "My mission is herding sheeps\n",
      "Run, run!!!\n"
     ]
    }
   ],
   "source": [
    "class Dog:\n",
    "    def greeting(self):\n",
    "        print(\"Bow Wow!!\")\n",
    "\n",
    "class SheepDog:\n",
    "    def herding(self):\n",
    "        print(\"My mission is herding sheeps\")\n",
    "        \n",
    "class WelshCorgi(Dog, SheepDog):\n",
    "    def running(self):\n",
    "        print(\"Run, run!!!\")\n",
    "\n",
    "coco = WelshCorgi()\n",
    "coco.greeting()  # 기반 클래스 Dog의 메서드\n",
    "coco.herding()  # 기반 클래스 SheepDog의 메서드\n",
    "coco.running()  # 파생 클래스 WelshCorgi의 메서드"
   ]
  },
  {
   "cell_type": "markdown",
   "metadata": {},
   "source": [
    "- 다이아몬드 상속\n",
    "  - 프로그래밍에서는 이렇게 명확하지 않고 애매한 상태를 좋아하지 않습니다.\n",
    "  - 다이아몬드 상속은 문제가 많다고 해서 죽음의 다이아몬드라고도 부릅니다."
   ]
  },
  {
   "cell_type": "code",
   "execution_count": 17,
   "metadata": {},
   "outputs": [
    {
     "name": "stdout",
     "output_type": "stream",
     "text": [
      "Hi, my name is B!\n"
     ]
    }
   ],
   "source": [
    "class A:\n",
    "    def greeting(self):\n",
    "        print(\"Hi, my name is A!\")\n",
    "        \n",
    "class B(A):\n",
    "    def greeting(self):\n",
    "        print(\"Hi, my name is B!\")\n",
    "        \n",
    "class C(A):\n",
    "    def greeting(self):\n",
    "        print(\"Hi, my name is C!\")\n",
    "        \n",
    "class D(B, C):\n",
    "    pass\n",
    "\n",
    "x= D()\n",
    "x.greeting()"
   ]
  },
  {
   "cell_type": "markdown",
   "metadata": {},
   "source": [
    "- 파이썬에서는 메서드 탐색 순서(Method Resolution Order, MRO)를 따릅니다. (다이아몬드 상속에 대한 해결책)\n",
    "- 파이썬은 다중 상속을 한다면 class D(B, C):의 클래스 목록 중 왼쪽에서 오른쪽 순서로 메서드를 찾습니다."
   ]
  },
  {
   "cell_type": "code",
   "execution_count": 19,
   "metadata": {},
   "outputs": [
    {
     "data": {
      "text/plain": [
       "[__main__.D, __main__.B, __main__.C, __main__.A, object]"
      ]
     },
     "execution_count": 19,
     "metadata": {},
     "output_type": "execute_result"
    }
   ],
   "source": [
    "D.mro()"
   ]
  },
  {
   "cell_type": "markdown",
   "metadata": {},
   "source": [
    "##  6. 추상 클래스"
   ]
  },
  {
   "cell_type": "markdown",
   "metadata": {},
   "source": [
    "- 추상 클래스는 메서드의 목록만 가진 클래스이며 상속받는 클래스에서 메서드 구현을 강제하기 위해 사용합니다.\n",
    "- 추상 클래스를 상속받았다면 @abstractmethod가 붙은 추상 메서드를 모두 구현해야 합니다."
   ]
  },
  {
   "cell_type": "markdown",
   "metadata": {},
   "source": [
    "```\n",
    "from abc import *\n",
    " \n",
    "class 추상클래스이름(metaclass=ABCMeta):\n",
    "    @abstractmethod\n",
    "    def 메서드이름(self):\n",
    "        코드\n",
    "```"
   ]
  },
  {
   "cell_type": "code",
   "execution_count": 20,
   "metadata": {},
   "outputs": [
    {
     "ename": "TypeError",
     "evalue": "Can't instantiate abstract class Dog with abstract methods run",
     "output_type": "error",
     "traceback": [
      "\u001b[1;31m---------------------------------------------------------------------------\u001b[0m",
      "\u001b[1;31mTypeError\u001b[0m                                 Traceback (most recent call last)",
      "\u001b[1;32m<ipython-input-20-dc1b7c47fa09>\u001b[0m in \u001b[0;36m<module>\u001b[1;34m\u001b[0m\n\u001b[0;32m     14\u001b[0m         \u001b[0mprint\u001b[0m\u001b[1;33m(\u001b[0m\u001b[1;34m\"Bow Wow!!\"\u001b[0m\u001b[1;33m)\u001b[0m\u001b[1;33m\u001b[0m\u001b[1;33m\u001b[0m\u001b[0m\n\u001b[0;32m     15\u001b[0m \u001b[1;33m\u001b[0m\u001b[0m\n\u001b[1;32m---> 16\u001b[1;33m \u001b[0mcoco\u001b[0m \u001b[1;33m=\u001b[0m \u001b[0mDog\u001b[0m\u001b[1;33m(\u001b[0m\u001b[1;33m)\u001b[0m\u001b[1;33m\u001b[0m\u001b[1;33m\u001b[0m\u001b[0m\n\u001b[0m\u001b[0;32m     17\u001b[0m \u001b[0mcoco\u001b[0m\u001b[1;33m.\u001b[0m\u001b[0mbark\u001b[0m\u001b[1;33m(\u001b[0m\u001b[1;33m)\u001b[0m\u001b[1;33m\u001b[0m\u001b[1;33m\u001b[0m\u001b[0m\n",
      "\u001b[1;31mTypeError\u001b[0m: Can't instantiate abstract class Dog with abstract methods run"
     ]
    }
   ],
   "source": [
    "from abc import *\n",
    "\n",
    "class DogBase(metaclass=ABCMeta):\n",
    "    @abstractmethod\n",
    "    def bark(self):\n",
    "        pass\n",
    "    \n",
    "    @abstractmethod\n",
    "    def run(self):\n",
    "        pass\n",
    "    \n",
    "class Dog(DogBase):\n",
    "    def bark(self):\n",
    "        print(\"Bow Wow!!\")\n",
    "        \n",
    "coco = Dog()\n",
    "coco.bark()"
   ]
  },
  {
   "cell_type": "code",
   "execution_count": 21,
   "metadata": {},
   "outputs": [
    {
     "name": "stdout",
     "output_type": "stream",
     "text": [
      "Bow Wow!!\n",
      "Run, run!!!\n"
     ]
    }
   ],
   "source": [
    "from abc import *\n",
    "\n",
    "class DogBase(metaclass=ABCMeta):\n",
    "    @abstractmethod\n",
    "    def bark(self):\n",
    "        pass\n",
    "    \n",
    "    @abstractmethod\n",
    "    def run(self):\n",
    "        pass\n",
    "    \n",
    "class Dog(DogBase):\n",
    "    def bark(self):\n",
    "        print(\"Bow Wow!!\")\n",
    "        \n",
    "    def run(self):\n",
    "        print(\"Run, run!!!\")\n",
    "        \n",
    "coco = Dog()\n",
    "coco.bark()\n",
    "coco.run()"
   ]
  },
  {
   "cell_type": "markdown",
   "metadata": {},
   "source": [
    "- 추상 클래스는 인스턴스로 만들 수 없습니다."
   ]
  },
  {
   "cell_type": "code",
   "execution_count": 22,
   "metadata": {},
   "outputs": [
    {
     "ename": "TypeError",
     "evalue": "Can't instantiate abstract class DogBase with abstract methods bark, run",
     "output_type": "error",
     "traceback": [
      "\u001b[1;31m---------------------------------------------------------------------------\u001b[0m",
      "\u001b[1;31mTypeError\u001b[0m                                 Traceback (most recent call last)",
      "\u001b[1;32m<ipython-input-22-ec3056547cd7>\u001b[0m in \u001b[0;36m<module>\u001b[1;34m\u001b[0m\n\u001b[1;32m----> 1\u001b[1;33m \u001b[0mdodo\u001b[0m \u001b[1;33m=\u001b[0m \u001b[0mDogBase\u001b[0m\u001b[1;33m(\u001b[0m\u001b[1;33m)\u001b[0m\u001b[1;33m\u001b[0m\u001b[1;33m\u001b[0m\u001b[0m\n\u001b[0m",
      "\u001b[1;31mTypeError\u001b[0m: Can't instantiate abstract class DogBase with abstract methods bark, run"
     ]
    }
   ],
   "source": [
    "dodo = DogBase()"
   ]
  },
  {
   "cell_type": "markdown",
   "metadata": {},
   "source": [
    "- 추상 클래스는 인스턴스로 만들 때는 사용하지 않으며 오로지 상속에만 사용합니다. \n",
    "- 그리고 파생 클래스에서 반드시 구현해야 할 메서드를 정해 줄 때 사용합니다."
   ]
  },
  {
   "cell_type": "code",
   "execution_count": null,
   "metadata": {},
   "outputs": [],
   "source": []
  }
 ],
 "metadata": {
  "kernelspec": {
   "display_name": "Python 3",
   "language": "python",
   "name": "python3"
  },
  "language_info": {
   "codemirror_mode": {
    "name": "ipython",
    "version": 3
   },
   "file_extension": ".py",
   "mimetype": "text/x-python",
   "name": "python",
   "nbconvert_exporter": "python",
   "pygments_lexer": "ipython3",
   "version": "3.8.5"
  }
 },
 "nbformat": 4,
 "nbformat_minor": 4
}
