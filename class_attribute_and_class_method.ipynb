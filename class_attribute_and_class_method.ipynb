{
 "cells": [
  {
   "cell_type": "markdown",
   "metadata": {},
   "source": [
    "# 클래스 속성과 인스턴스 속성"
   ]
  },
  {
   "cell_type": "markdown",
   "metadata": {},
   "source": [
    "## 1. 클래스 속성\n",
    "- 클래스 속성은 클래스에 속해 있으며 모든 인스턴스에서 공유합니다."
   ]
  },
  {
   "cell_type": "code",
   "execution_count": 3,
   "metadata": {},
   "outputs": [
    {
     "name": "stdout",
     "output_type": "stream",
     "text": [
      "['개껌', '터그'] ['개껌', '터그']\n"
     ]
    }
   ],
   "source": [
    "class Dog:\n",
    "    dog_bag = []  # __init__ 메서드에 넣는 인스턴스 속성과는 다름\n",
    "    \n",
    "    def put_bag(self, stuff):\n",
    "        self.dog_bag.append(stuff)\n",
    "        \n",
    "welsh_corgi = Dog()\n",
    "welsh_corgi.put_bag('개껌')\n",
    "\n",
    "dachshund = Dog()\n",
    "dachshund.put_bag('터그')\n",
    "\n",
    "print(welsh_corgi.dog_bag, dachshund.dog_bag)"
   ]
  },
  {
   "cell_type": "markdown",
   "metadata": {},
   "source": [
    "- put_bag 메서드에서 클래스 속성 dog_bag에 접근할 때 self를 사용했습니다. 사실 self는 현재 인스턴스를 뜻하므로 클래스 속성을 지칭하기에는 조금 모호합니다.\n",
    "- 그래서 클래스 속성에 접근할 때는 다음과 같이 클래스 이름으로 접근하면 좀 더 코드가 명확해집니다."
   ]
  },
  {
   "cell_type": "code",
   "execution_count": 4,
   "metadata": {},
   "outputs": [],
   "source": [
    "class Dog:\n",
    "    dog_bag = []\n",
    "    \n",
    "    def put_bag(self, stuff):\n",
    "        Dog.dog_bag.append(stuff)"
   ]
  },
  {
   "cell_type": "markdown",
   "metadata": {},
   "source": [
    "- 마찬가지로 클래스 바깥에서도 다음과 같이 클래스 이름으로 클래스 속성에 접근하면 됩니다."
   ]
  },
  {
   "cell_type": "code",
   "execution_count": 5,
   "metadata": {
    "scrolled": true
   },
   "outputs": [
    {
     "name": "stdout",
     "output_type": "stream",
     "text": [
      "[]\n"
     ]
    }
   ],
   "source": [
    "print(Dog.dog_bag)"
   ]
  },
  {
   "cell_type": "markdown",
   "metadata": {},
   "source": [
    "### ※ 속성, 메서드 이름을 찾는 순서\n",
    "- 파이썬에서는 속성, 메서드 이름을 찾을 때 인스턴스, 클래스 순으로 찾습니다. \n",
    "- 인스턴스와 클래스에서 \\_\\_dict__ 속성을 출력해보면 현재 인스턴스와 클래스의 속성을 딕셔너리로 확인할 수 있습니다."
   ]
  },
  {
   "cell_type": "code",
   "execution_count": 7,
   "metadata": {},
   "outputs": [
    {
     "data": {
      "text/plain": [
       "{}"
      ]
     },
     "execution_count": 7,
     "metadata": {},
     "output_type": "execute_result"
    }
   ],
   "source": [
    "welsh_corgi = Dog()\n",
    "welsh_corgi.put_bag('개껌')\n",
    "welsh_corgi.__dict__"
   ]
  },
  {
   "cell_type": "code",
   "execution_count": 8,
   "metadata": {},
   "outputs": [
    {
     "data": {
      "text/plain": [
       "mappingproxy({'__module__': '__main__',\n",
       "              'dog_bag': ['개껌'],\n",
       "              'put_bag': <function __main__.Dog.put_bag(self, stuff)>,\n",
       "              '__dict__': <attribute '__dict__' of 'Dog' objects>,\n",
       "              '__weakref__': <attribute '__weakref__' of 'Dog' objects>,\n",
       "              '__doc__': None})"
      ]
     },
     "execution_count": 8,
     "metadata": {},
     "output_type": "execute_result"
    }
   ],
   "source": [
    "Dog.__dict__"
   ]
  },
  {
   "cell_type": "markdown",
   "metadata": {},
   "source": [
    "### - 비공개 클래스 속성 사용하기\n",
    "- 비공개 클래스 속성은 클래스 바깥으로 드러내고 싶지 않은 값에 사용합니다."
   ]
  },
  {
   "cell_type": "markdown",
   "metadata": {},
   "source": [
    "```\n",
    "class 클래스이름:\n",
    "    __속성 = 값    # 비공개 클래스 속성\n",
    "```"
   ]
  },
  {
   "cell_type": "code",
   "execution_count": 9,
   "metadata": {},
   "outputs": [],
   "source": [
    "class Dog:\n",
    "    __item_limit = 10  # 비공개 클래스 속성\n",
    "    \n",
    "    def print_item_limit(self):\n",
    "        print(Dog.__item_limit)  # 클래스 안에서만 접근 가능"
   ]
  },
  {
   "cell_type": "code",
   "execution_count": 11,
   "metadata": {},
   "outputs": [
    {
     "name": "stdout",
     "output_type": "stream",
     "text": [
      "10\n"
     ]
    }
   ],
   "source": [
    "welsh_corgi = Dog()\n",
    "welsh_corgi.print_item_limit()"
   ]
  },
  {
   "cell_type": "code",
   "execution_count": 14,
   "metadata": {},
   "outputs": [
    {
     "ename": "AttributeError",
     "evalue": "type object 'Dog' has no attribute '__item_limit'",
     "output_type": "error",
     "traceback": [
      "\u001b[1;31m---------------------------------------------------------------------------\u001b[0m",
      "\u001b[1;31mAttributeError\u001b[0m                            Traceback (most recent call last)",
      "\u001b[1;32m<ipython-input-14-bea826eb94d1>\u001b[0m in \u001b[0;36m<module>\u001b[1;34m\u001b[0m\n\u001b[1;32m----> 1\u001b[1;33m \u001b[0mprint\u001b[0m\u001b[1;33m(\u001b[0m\u001b[0mDog\u001b[0m\u001b[1;33m.\u001b[0m\u001b[0m__item_limit\u001b[0m\u001b[1;33m)\u001b[0m\u001b[1;33m\u001b[0m\u001b[1;33m\u001b[0m\u001b[0m\n\u001b[0m",
      "\u001b[1;31mAttributeError\u001b[0m: type object 'Dog' has no attribute '__item_limit'"
     ]
    }
   ],
   "source": [
    "print(Dog.__item_limit)"
   ]
  },
  {
   "cell_type": "markdown",
   "metadata": {},
   "source": [
    "## 2. 정적 메서드\n",
    "- 정적 메서드는 인스턴스를 통하지 않고 클래스에서 바로 호출할 수 있습니다.\n",
    "- 정적 메서드는 self를 받지 않으므로 인스턴스 속성에는 접근할 수 없습니다. 그래서 보통 정적 메서드는 인스턴스 속성, 인스턴스 메서드가 필요 없을 때 사용합니다."
   ]
  },
  {
   "cell_type": "markdown",
   "metadata": {},
   "source": [
    "```\n",
    "class 클래스이름:\n",
    "    @staticmethod\n",
    "    def 메서드(매개변수1, 매개변수2):  # self를 넣지 않음\n",
    "        코드\n",
    "```"
   ]
  },
  {
   "cell_type": "code",
   "execution_count": 17,
   "metadata": {},
   "outputs": [
    {
     "name": "stdout",
     "output_type": "stream",
     "text": [
      "30\n",
      "200\n"
     ]
    }
   ],
   "source": [
    "class Calc:\n",
    "    @staticmethod\n",
    "    def add(a, b):\n",
    "        print(a + b)\n",
    "    \n",
    "    @staticmethod\n",
    "    def mul(a, b):\n",
    "        print(a * b)\n",
    "    \n",
    "Calc.add(10, 20)  # 클래스에서 바로 메서드 호출\n",
    "Calc.mul(10, 20)  # 클래스에서 바로 메서드 호출"
   ]
  },
  {
   "cell_type": "markdown",
   "metadata": {},
   "source": [
    "### ※ 정적 메서드로 만들어야 하는 것?\n",
    "> 정적 메서드는 메서드의 실행이 외부 상태에 영향을 끼치지 않는 순수 함수(pure function)를 만들 때 사용합니다. 순수 함수는 부수 효과(side effect)가 없고 입력 값이 같으면 언제나 같은 출력 값을 반환합니다. 즉, 정적 메서드는 인스턴스의 상태를 변화시키지 않는 메서드를 만들 때 사용합니다."
   ]
  },
  {
   "cell_type": "markdown",
   "metadata": {},
   "source": [
    "## 3. 클래스 메서드\n",
    "- 클래스 메서드는 메서드 안에서 클래스 속성, 클래스 메서드에 접근해야 할 때 사용합니다.\n",
    "- 클래스 메서드는 정적 메서드처럼 인스턴스 없이 호출할 수 있다는 점은 같습니다."
   ]
  },
  {
   "cell_type": "code",
   "execution_count": 19,
   "metadata": {},
   "outputs": [
    {
     "name": "stdout",
     "output_type": "stream",
     "text": [
      "2마리 생성되었습니다.\n"
     ]
    }
   ],
   "source": [
    "class Dog:\n",
    "    count = 0\n",
    "    \n",
    "    def __init__(self):\n",
    "          Dog.count += 1  # 인스턴스가 만들어질 때, 클래스 속성 count에 1을 더함\n",
    "    \n",
    "    @classmethod\n",
    "    def print_count(cls):\n",
    "        print(\"{0}마리 생성되었습니다.\".format(cls.count))\n",
    "\n",
    "welsh_corgi = Dog()\n",
    "dachshund = Dog()\n",
    "\n",
    "Dog.print_count()"
   ]
  },
  {
   "cell_type": "markdown",
   "metadata": {},
   "source": [
    "- cls를 사용하면 메서드 안에서 현재 클래스의 인스턴스를 만들 수도 있습니다."
   ]
  },
  {
   "cell_type": "code",
   "execution_count": 22,
   "metadata": {
    "scrolled": true
   },
   "outputs": [
    {
     "name": "stdout",
     "output_type": "stream",
     "text": [
      "1마리 생성되었습니다.\n"
     ]
    }
   ],
   "source": [
    "class Dog:\n",
    "    count = 0\n",
    "    \n",
    "    def __init__(self):\n",
    "          Dog.count += 1  # 인스턴스가 만들어질 때, 클래스 속성 count에 1을 더함\n",
    "    \n",
    "    @classmethod\n",
    "    def print_count(cls):\n",
    "        print(\"{0}마리 생성되었습니다.\".format(cls.count))\n",
    "    \n",
    "    @classmethod\n",
    "    def create(cls):\n",
    "        puppy = cls()  # cls()로 인스턴스 생성\n",
    "        return puppy\n",
    "\n",
    "puppy = Dog.create()\n",
    "Dog.print_count()"
   ]
  },
  {
   "cell_type": "markdown",
   "metadata": {},
   "source": [
    "### 35.6 심사문제 - 시간 클래스 만들기"
   ]
  },
  {
   "cell_type": "code",
   "execution_count": 29,
   "metadata": {},
   "outputs": [
    {
     "name": "stdout",
     "output_type": "stream",
     "text": [
      "23:20:20\n",
      "23 20 20\n"
     ]
    }
   ],
   "source": [
    "class Time:\n",
    "    def __init__(self, hour, minute, second):\n",
    "        self.hour = hour\n",
    "        self.minute = minute\n",
    "        self.second = second\n",
    "    \n",
    "    @staticmethod \n",
    "    def is_time_valid(time_string):\n",
    "        hour, minute, second = map(int, time_string.split(':'))\n",
    "        return hour <= 24 and minute <= 59 and second <= 60\n",
    "    \n",
    "    @classmethod\n",
    "    def from_string(cls, time_string):\n",
    "        t = cls(*time_string.split(':'))\n",
    "        return t\n",
    " \n",
    "time_string = input()\n",
    " \n",
    "if Time.is_time_valid(time_string):\n",
    "    t = Time.from_string(time_string)\n",
    "    print(t.hour, t.minute, t.second)\n",
    "else:\n",
    "    print('잘못된 시간 형식입니다.')"
   ]
  }
 ],
 "metadata": {
  "kernelspec": {
   "display_name": "Python 3",
   "language": "python",
   "name": "python3"
  },
  "language_info": {
   "codemirror_mode": {
    "name": "ipython",
    "version": 3
   },
   "file_extension": ".py",
   "mimetype": "text/x-python",
   "name": "python",
   "nbconvert_exporter": "python",
   "pygments_lexer": "ipython3",
   "version": "3.8.5"
  }
 },
 "nbformat": 4,
 "nbformat_minor": 4
}
