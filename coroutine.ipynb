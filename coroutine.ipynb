{
 "cells": [
  {
   "cell_type": "markdown",
   "metadata": {},
   "source": [
    "# 코루틴"
   ]
  },
  {
   "cell_type": "markdown",
   "metadata": {},
   "source": [
    "- 코루틴(coroutine)은 cooperative routine를 의미하는데 서로 협력하는 루틴이라는 뜻입니다. \n",
    "- 즉, 메인 루틴과 서브 루틴처럼 종속된 관계가 아니라 서로 대등한 관계이며 특정 시점에 상대방의 코드를 실행합니다.\n",
    "- 코루틴은 함수가 종료되지 않은 상태에서 메인 루틴의 코드를 실행한 뒤 다시 돌아와서 코루틴의 코드를 실행합니다. 따라서 코루틴이 종료되지 않았으므로 코루틴의 내용도 계속 유지됩니다.\n",
    "- 함수의 코드를 실행하는 지점을 진입점(entry point)이라고 하는데, 코루틴은 진입점이 여러 개인 함수입니다."
   ]
  },
  {
   "cell_type": "markdown",
   "metadata": {},
   "source": [
    "- 코루틴은 함수가 종료되지 않은 상태에서 값을 주고 받을 수 있는 함수이며 이 과정에서 현재 코드의 실행을 대기하고 상대방의 코드를 실행한다는 점이 중요합니다.\n",
    "- 보통 코루틴은 시간이 오래 걸리는 작업을 분할하여 처리할 때 사용하는데 주로 파일 처리, 네트워크 처리 등에 활용합니다."
   ]
  },
  {
   "cell_type": "markdown",
   "metadata": {},
   "source": [
    "## 1. 코루틴에 값 보내기"
   ]
  },
  {
   "cell_type": "markdown",
   "metadata": {},
   "source": [
    "- 코루틴은 제너레이터의 특별한 형태입니다.\n",
    "- 제너레이터는 yield로 값을 발생시켰지만 코루틴은 yield로 값을 받아올 수 있습니다."
   ]
  },
  {
   "cell_type": "markdown",
   "metadata": {},
   "source": [
    "```\n",
    "코루틴객체.send(값)\n",
    "변수 = (yield)\n",
    "```"
   ]
  },
  {
   "cell_type": "code",
   "execution_count": 2,
   "metadata": {},
   "outputs": [
    {
     "name": "stdout",
     "output_type": "stream",
     "text": [
      "1\n",
      "2\n",
      "3\n"
     ]
    }
   ],
   "source": [
    "def num_coroutine():\n",
    "    while True:        # 코루틴을 계속 유지하기 위해 무한 루프 사용\n",
    "        x = (yield)    # 코루틴 바깥에서 값을 받아옴, yield를 괄호로 묶어야 함\n",
    "        print(x)\n",
    " \n",
    "co = num_coroutine()\n",
    "next(co)      # 코루틴 안의 yield까지 코드 실행(최초 실행)\n",
    " \n",
    "co.send(1)    # 코루틴에 숫자 1을 보냄\n",
    "co.send(2)    # 코루틴에 숫자 2을 보냄\n",
    "co.send(3)    # 코루틴에 숫자 3을 보냄"
   ]
  },
  {
   "cell_type": "markdown",
   "metadata": {},
   "source": [
    "- send로 코루틴의 코드를 최초로 실행하기\n",
    "  - 코루틴객체.send(None)과 같이 send 메서드에 None을 지정해도 코루틴의 코드를 최초로 실행할 수 있습니다."
   ]
  },
  {
   "cell_type": "markdown",
   "metadata": {},
   "source": [
    "## 2. 코루틴 바깥으로 값 전달하기"
   ]
  },
  {
   "cell_type": "markdown",
   "metadata": {},
   "source": [
    "- (yield 변수) 형식으로 yield에 변수를 지정한 뒤 괄호로 묶어주면 값을 받아오면서 바깥으로 값을 전달합니다.\n",
    "- 그리고 yield를 사용하여 바깥으로 전달한 값은 next 함수(\\_\\_next__ 메서드)와 send 메서드의 반환값으로 나옵니다."
   ]
  },
  {
   "cell_type": "markdown",
   "metadata": {},
   "source": [
    "```\n",
    "변수 = (yield 변수)\n",
    "변수 = next(코루틴객체)\n",
    "변수 = 코루틴객체.send(값)\n",
    "```"
   ]
  },
  {
   "cell_type": "code",
   "execution_count": 8,
   "metadata": {},
   "outputs": [
    {
     "name": "stdout",
     "output_type": "stream",
     "text": [
      "0\n",
      "1\n",
      "3\n",
      "6\n"
     ]
    }
   ],
   "source": [
    "def sum_coroutine():\n",
    "    total = 0\n",
    "    while True:        \n",
    "        x = (yield total)  # 코루틴 바깥에서 값을 받아오면서 바깥으로 값을 전달\n",
    "        total += x\n",
    " \n",
    "co = sum_coroutine()\n",
    "print(next(co))      # 0: 코루틴 안의 yield까지 코드를 실행하고 코루틴에서 나온 값 출력\n",
    " \n",
    "print(co.send(1))    # 1: 코루틴에 숫자 1을 보내고 코루틴에서 나온 값 출력\n",
    "print(co.send(2))    # 3: 코루틴에 숫자 2를 보내고 코루틴에서 나온 값 출력\n",
    "print(co.send(3))    # 6: 코루틴에 숫자 3을 보내고 코루틴에서 나온 값 출력"
   ]
  },
  {
   "cell_type": "markdown",
   "metadata": {},
   "source": [
    "### ※ 제너레이터와 코루틴의 차이점\n",
    "  - 제너레이터는 next 함수(\\_\\_next__ 메서드)를 반복 호출하여 값을 얻어내는 방식\n",
    "  - 코루틴은 next 함수(\\_\\_next__ 메서드)를 한 번만 호출한 뒤 send로 값을 주고 받는 방식"
   ]
  },
  {
   "cell_type": "markdown",
   "metadata": {},
   "source": [
    "## 3. 코루틴을 종료하고 예외 처리하기"
   ]
  },
  {
   "cell_type": "markdown",
   "metadata": {},
   "source": [
    "- 보통 코루틴은 실행 상태를 유지하기 위해 while True:를 사용해서 끝나지 않는 무한 루프로 동작합니다. \n",
    "- 만약 코루틴을 강제로 종료하고 싶다면 close 메서드를 사용합니다."
   ]
  },
  {
   "cell_type": "markdown",
   "metadata": {},
   "source": [
    "```\n",
    "코루틴객체.close()\n",
    "```"
   ]
  },
  {
   "cell_type": "markdown",
   "metadata": {},
   "source": [
    "- 파이썬 스크립트가 끝나면 코루틴도 끝나기 때문에 close를 사용하지 않은 것과 별 차이가 없습니다. \n",
    "- 하지만 close는 코루틴의 종료 시점을 알아야 할 때 사용하면 편리합니다."
   ]
  },
  {
   "cell_type": "code",
   "execution_count": 4,
   "metadata": {},
   "outputs": [
    {
     "name": "stdout",
     "output_type": "stream",
     "text": [
      "0 1 2 3 4 5 6 7 8 9 10 11 12 13 14 15 16 17 18 19 "
     ]
    }
   ],
   "source": [
    "def num_coroutine():\n",
    "    while True:\n",
    "        x = (yield)\n",
    "        print(x, end=' ')\n",
    "        \n",
    "co = num_coroutine()\n",
    "next(co)\n",
    "\n",
    "for i in range(20):\n",
    "    co.send(i)\n",
    "    \n",
    "co.close()  # 코루틴 종료"
   ]
  },
  {
   "cell_type": "markdown",
   "metadata": {},
   "source": [
    "- GeneratorExit 예외 처리하기\n",
    "  - 코루틴 객체에서 close 메서드를 호출하면 코루틴이 종료될 때 GeneratorExit 예외가 발생합니다. \n",
    "  - 따라서 이 예외를 처리하면 코루틴의 종료 시점을 알 수 있습니다."
   ]
  },
  {
   "cell_type": "code",
   "execution_count": 5,
   "metadata": {},
   "outputs": [
    {
     "name": "stdout",
     "output_type": "stream",
     "text": [
      "0 1 2 3 4 5 6 7 8 9 10 11 12 13 14 15 16 17 18 19 \n",
      "코루틴 종료\n"
     ]
    }
   ],
   "source": [
    "def num_coroutine():\n",
    "    try:\n",
    "        while True:\n",
    "            x = (yield)\n",
    "            print(x, end=' ')\n",
    "    except GeneratorExit:  # 코루틴이 종료 될 때 GeneratorExit 예외 발생\n",
    "        print()\n",
    "        print('코루틴 종료')\n",
    "        \n",
    "        \n",
    "co = num_coroutine()\n",
    "next(co)\n",
    "\n",
    "for i in range(20):\n",
    "    co.send(i)\n",
    "    \n",
    "co.close()  # 코루틴 종료"
   ]
  },
  {
   "cell_type": "markdown",
   "metadata": {},
   "source": [
    "- 코루틴 안에서 예외 발생시키기"
   ]
  },
  {
   "cell_type": "markdown",
   "metadata": {},
   "source": [
    "```\n",
    "코루틴객체.throw(예외이름, 에러메시지)\n",
    "```"
   ]
  },
  {
   "cell_type": "code",
   "execution_count": 7,
   "metadata": {},
   "outputs": [
    {
     "name": "stdout",
     "output_type": "stream",
     "text": [
      "예외로 코루틴 끝내기\n",
      "190\n"
     ]
    }
   ],
   "source": [
    "def sum_coroutine():\n",
    "    try:\n",
    "        total = 0\n",
    "        while True:\n",
    "            x = (yield)\n",
    "            total += x\n",
    "    except RuntimeError as e:  \n",
    "        print(e)\n",
    "        yield total  # 코루틴 바깥으로 값 전달\n",
    "        \n",
    "        \n",
    "co = sum_coroutine()\n",
    "next(co)\n",
    "\n",
    "for i in range(20):\n",
    "    co.send(i)\n",
    "    \n",
    "print(co.throw(RuntimeError, '예외로 코루틴 끝내기'))"
   ]
  },
  {
   "cell_type": "markdown",
   "metadata": {},
   "source": [
    "## 4. 하위 코루틴의 반환값 가져오기"
   ]
  },
  {
   "cell_type": "markdown",
   "metadata": {},
   "source": [
    "- yield from에 코루틴을 지정하면 해당 코루틴에서 return으로 반환한 값을 가져옵니다.\n",
    "- 코루틴에서 yield from을 사용하면 코루틴 바깥에서 send로 하위 코루틴까지 값을 보낼 수 있습니다."
   ]
  },
  {
   "cell_type": "markdown",
   "metadata": {},
   "source": [
    "```\n",
    "변수 = yield from 코루틴()\n",
    "```"
   ]
  },
  {
   "cell_type": "code",
   "execution_count": 9,
   "metadata": {},
   "outputs": [
    {
     "name": "stdout",
     "output_type": "stream",
     "text": [
      "55\n",
      "5050\n"
     ]
    }
   ],
   "source": [
    "def accumulate():\n",
    "    total = 0\n",
    "    while True:\n",
    "        x = (yield)\n",
    "        if x is None:  # 코루틴 바깥에서 값을 받아옴\n",
    "            return total  # 받아온 값이 None이면\n",
    "        total += x  # 합계 total을 반환\n",
    "        \n",
    "def sum_coroutine():\n",
    "    while True:\n",
    "        total = yield from accumulate()  # accumulate의 반환값을 가져옴\n",
    "        print(total)\n",
    "\n",
    "co = sum_coroutine()\n",
    "next(co)\n",
    "\n",
    "for i in range(1, 11):    # 1부터 10까지 반복\n",
    "    co.send(i)            # 코루틴 accumulate에 숫자를 보냄\n",
    "co.send(None)             # 코루틴 accumulate에 None을 보내서 숫자 누적을 끝냄\n",
    " \n",
    "for i in range(1, 101):   # 1부터 100까지 반복\n",
    "    co.send(i)            # 코루틴 accumulate에 숫자를 보냄\n",
    "co.send(None)             # 코루틴 accumulate에 None을 보내서 숫자 누적을 끝냄\n",
    "# sum_coroutine은 계속 돌고 있음"
   ]
  },
  {
   "cell_type": "markdown",
   "metadata": {},
   "source": [
    "### ※  StopIteration 예외 발생시키기\n",
    "  - 코루틴도 제너레이터이므로 return을 사용하면 StopIteration이 발생합니다. \n",
    "  - 그래서 코루틴에서 return 값은 raise StopIteration(값)처럼 사용할 수도 있습니다(파이썬 3.6 이하).\n",
    "  - 파이썬 3.7부터는 제너레이터 안에서 raise로 StopIteration 예외를 직접 발생시키면 RuntimeError로 바뀌므로 이 방법은 사용할 수 없습니다. 파이썬 3.7부터는 그냥 return 값을 사용해주세요"
   ]
  },
  {
   "cell_type": "code",
   "execution_count": 14,
   "metadata": {},
   "outputs": [
    {
     "ename": "RuntimeError",
     "evalue": "generator raised StopIteration",
     "output_type": "error",
     "traceback": [
      "\u001b[1;31m---------------------------------------------------------------------------\u001b[0m",
      "\u001b[1;31mStopIteration\u001b[0m                             Traceback (most recent call last)",
      "\u001b[1;32m<ipython-input-14-442337d76c22>\u001b[0m in \u001b[0;36maccumulate\u001b[1;34m()\u001b[0m\n\u001b[0;32m      6\u001b[0m         \u001b[1;32mif\u001b[0m \u001b[0mx\u001b[0m \u001b[1;32mis\u001b[0m \u001b[1;32mNone\u001b[0m\u001b[1;33m:\u001b[0m  \u001b[1;31m# 코루틴 바깥에서 값을 받아옴\u001b[0m\u001b[1;33m\u001b[0m\u001b[1;33m\u001b[0m\u001b[0m\n\u001b[1;32m----> 7\u001b[1;33m             \u001b[1;32mraise\u001b[0m \u001b[0mStopIteration\u001b[0m\u001b[1;33m(\u001b[0m\u001b[0mtotal\u001b[0m\u001b[1;33m)\u001b[0m  \u001b[1;31m# 받아온 값이 None이면\u001b[0m\u001b[1;33m\u001b[0m\u001b[1;33m\u001b[0m\u001b[0m\n\u001b[0m\u001b[0;32m      8\u001b[0m         \u001b[0mtotal\u001b[0m \u001b[1;33m+=\u001b[0m \u001b[0mx\u001b[0m  \u001b[1;31m# 합계 total을 반환\u001b[0m\u001b[1;33m\u001b[0m\u001b[1;33m\u001b[0m\u001b[0m\n",
      "\u001b[1;31mStopIteration\u001b[0m: 55",
      "\nThe above exception was the direct cause of the following exception:\n",
      "\u001b[1;31mRuntimeError\u001b[0m                              Traceback (most recent call last)",
      "\u001b[1;32m<ipython-input-14-442337d76c22>\u001b[0m in \u001b[0;36m<module>\u001b[1;34m\u001b[0m\n\u001b[0;32m     18\u001b[0m \u001b[1;32mfor\u001b[0m \u001b[0mi\u001b[0m \u001b[1;32min\u001b[0m \u001b[0mrange\u001b[0m\u001b[1;33m(\u001b[0m\u001b[1;36m1\u001b[0m\u001b[1;33m,\u001b[0m \u001b[1;36m11\u001b[0m\u001b[1;33m)\u001b[0m\u001b[1;33m:\u001b[0m    \u001b[1;31m# 1부터 10까지 반복\u001b[0m\u001b[1;33m\u001b[0m\u001b[1;33m\u001b[0m\u001b[0m\n\u001b[0;32m     19\u001b[0m     \u001b[0mco\u001b[0m\u001b[1;33m.\u001b[0m\u001b[0msend\u001b[0m\u001b[1;33m(\u001b[0m\u001b[0mi\u001b[0m\u001b[1;33m)\u001b[0m            \u001b[1;31m# 코루틴 accumulate에 숫자를 보냄\u001b[0m\u001b[1;33m\u001b[0m\u001b[1;33m\u001b[0m\u001b[0m\n\u001b[1;32m---> 20\u001b[1;33m \u001b[0mco\u001b[0m\u001b[1;33m.\u001b[0m\u001b[0msend\u001b[0m\u001b[1;33m(\u001b[0m\u001b[1;32mNone\u001b[0m\u001b[1;33m)\u001b[0m             \u001b[1;31m# 코루틴 accumulate에 None을 보내서 숫자 누적을 끝냄\u001b[0m\u001b[1;33m\u001b[0m\u001b[1;33m\u001b[0m\u001b[0m\n\u001b[0m\u001b[0;32m     21\u001b[0m \u001b[1;33m\u001b[0m\u001b[0m\n\u001b[0;32m     22\u001b[0m \u001b[1;32mfor\u001b[0m \u001b[0mi\u001b[0m \u001b[1;32min\u001b[0m \u001b[0mrange\u001b[0m\u001b[1;33m(\u001b[0m\u001b[1;36m1\u001b[0m\u001b[1;33m,\u001b[0m \u001b[1;36m101\u001b[0m\u001b[1;33m)\u001b[0m\u001b[1;33m:\u001b[0m   \u001b[1;31m# 1부터 100까지 반복\u001b[0m\u001b[1;33m\u001b[0m\u001b[1;33m\u001b[0m\u001b[0m\n",
      "\u001b[1;32m<ipython-input-14-442337d76c22>\u001b[0m in \u001b[0;36msum_coroutine\u001b[1;34m()\u001b[0m\n\u001b[0;32m     10\u001b[0m \u001b[1;32mdef\u001b[0m \u001b[0msum_coroutine\u001b[0m\u001b[1;33m(\u001b[0m\u001b[1;33m)\u001b[0m\u001b[1;33m:\u001b[0m\u001b[1;33m\u001b[0m\u001b[1;33m\u001b[0m\u001b[0m\n\u001b[0;32m     11\u001b[0m     \u001b[1;32mwhile\u001b[0m \u001b[1;32mTrue\u001b[0m\u001b[1;33m:\u001b[0m\u001b[1;33m\u001b[0m\u001b[1;33m\u001b[0m\u001b[0m\n\u001b[1;32m---> 12\u001b[1;33m         \u001b[0mtotal\u001b[0m \u001b[1;33m=\u001b[0m \u001b[1;32myield\u001b[0m \u001b[1;32mfrom\u001b[0m \u001b[0maccumulate\u001b[0m\u001b[1;33m(\u001b[0m\u001b[1;33m)\u001b[0m  \u001b[1;31m# accumulate의 반환값을 가져옴\u001b[0m\u001b[1;33m\u001b[0m\u001b[1;33m\u001b[0m\u001b[0m\n\u001b[0m\u001b[0;32m     13\u001b[0m         \u001b[0mprint\u001b[0m\u001b[1;33m(\u001b[0m\u001b[0mtotal\u001b[0m\u001b[1;33m)\u001b[0m\u001b[1;33m\u001b[0m\u001b[1;33m\u001b[0m\u001b[0m\n\u001b[0;32m     14\u001b[0m \u001b[1;33m\u001b[0m\u001b[0m\n",
      "\u001b[1;31mRuntimeError\u001b[0m: generator raised StopIteration"
     ]
    }
   ],
   "source": [
    "# 파이썬 3.7 이상이라 런타임 에러 발생\n",
    "def accumulate():\n",
    "    total = 0\n",
    "    while True:\n",
    "        x = (yield)\n",
    "        if x is None:  # 코루틴 바깥에서 값을 받아옴\n",
    "            raise StopIteration(total)  # 받아온 값이 None이면\n",
    "        total += x  # 합계 total을 반환\n",
    "        \n",
    "def sum_coroutine():\n",
    "    while True:\n",
    "        total = yield from accumulate()  # accumulate의 반환값을 가져옴\n",
    "        print(total)\n",
    "\n",
    "co = sum_coroutine()\n",
    "next(co)\n",
    "\n",
    "for i in range(1, 11):    # 1부터 10까지 반복\n",
    "    co.send(i)            # 코루틴 accumulate에 숫자를 보냄\n",
    "co.send(None)             # 코루틴 accumulate에 None을 보내서 숫자 누적을 끝냄\n",
    " \n",
    "for i in range(1, 101):   # 1부터 100까지 반복\n",
    "    co.send(i)            # 코루틴 accumulate에 숫자를 보냄\n",
    "co.send(None)             # 코루틴 accumulate에 None을 보내서 숫자 누적을 끝냄\n",
    "# sum_coroutine은 계속 돌고 있음"
   ]
  },
  {
   "cell_type": "markdown",
   "metadata": {},
   "source": [
    "### ※ 코루틴의 yield from으로 값을 발생시키기"
   ]
  },
  {
   "cell_type": "markdown",
   "metadata": {},
   "source": [
    "- 이번 예제에서는 x = (yield)와 같이 코루틴 바깥에서 보낸 값만 받아왔습니다. 하지만 코루틴에서 yield에 값을 지정해서 바깥으로 전달했다면 yield from은 해당 값을 다시 바깥으로 전달합니다."
   ]
  },
  {
   "cell_type": "code",
   "execution_count": 16,
   "metadata": {},
   "outputs": [
    {
     "name": "stdout",
     "output_type": "stream",
     "text": [
      "1\n",
      "2\n",
      "print_coroutine: 3\n"
     ]
    }
   ],
   "source": [
    "def number_coroutine():\n",
    "    x = None\n",
    "    while True:\n",
    "        x = (yield x)  # 코루틴 바깥에서 값을 받아오면서 바깥으로 값을 전달\n",
    "        if x == 3:\n",
    "            return x\n",
    "        \n",
    "def print_coroutine():\n",
    "    while True:\n",
    "        x = yield from number_coroutine()  # 하위 코루틴의 yield에 지정된 값을 다시 바깥으로 전달\n",
    "        print('print_coroutine:', x)\n",
    "\n",
    "co = print_coroutine()\n",
    "next(co)\n",
    "\n",
    "x = co.send(1)    # number_coroutine으로 1을 보냄\n",
    "print(x)          # 1: number_coroutine의 yield에서 바깥으로 전달한 값\n",
    "x = co.send(2)    # number_coroutine으로 2를 보냄\n",
    "print(x)          # 2: number_coroutine의 yield에서 바깥으로 전달한 값\n",
    "co.send(3)        # 3을 보내서 반환값을 출력하도록 만듦"
   ]
  },
  {
   "cell_type": "markdown",
   "metadata": {},
   "source": [
    "## 41.7 심사문제 - 사칙연산 코루틴 만들기"
   ]
  },
  {
   "cell_type": "code",
   "execution_count": 29,
   "metadata": {},
   "outputs": [
    {
     "name": "stdout",
     "output_type": "stream",
     "text": [
      "3 * 4, 10 / 5, 20 + 39\n",
      "12\n",
      "2.0\n",
      "59\n"
     ]
    }
   ],
   "source": [
    "def calc():\n",
    "    result = None\n",
    "    while True:\n",
    "        expression = (yield result)\n",
    "        result = eval(expression)\n",
    "\n",
    "expressions = input().split(', ')\n",
    " \n",
    "c = calc()\n",
    "next(c)\n",
    " \n",
    "for e in expressions:\n",
    "    print(c.send(e))\n",
    " \n",
    "c.close()"
   ]
  }
 ],
 "metadata": {
  "kernelspec": {
   "display_name": "Python 3",
   "language": "python",
   "name": "python3"
  },
  "language_info": {
   "codemirror_mode": {
    "name": "ipython",
    "version": 3
   },
   "file_extension": ".py",
   "mimetype": "text/x-python",
   "name": "python",
   "nbconvert_exporter": "python",
   "pygments_lexer": "ipython3",
   "version": "3.8.5"
  }
 },
 "nbformat": 4,
 "nbformat_minor": 4
}
