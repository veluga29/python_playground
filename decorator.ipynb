{
 "cells": [
  {
   "cell_type": "markdown",
   "metadata": {},
   "source": [
    "# 데코레이터 사용하기"
   ]
  },
  {
   "cell_type": "markdown",
   "metadata": {},
   "source": [
    "- 데코레이터는 프로그램의 버그를 찾는 디버깅, 함수의 성능 측정, 함수 실행 전에 데이터 확인 등에 활용합니다."
   ]
  },
  {
   "cell_type": "markdown",
   "metadata": {},
   "source": [
    "## 1. 데코레이터 만들기"
   ]
  },
  {
   "cell_type": "markdown",
   "metadata": {},
   "source": [
    "- 데코레이터는 기존 함수를 수정하지 않으면서 추가 기능을 구현할 때 사용합니다."
   ]
  },
  {
   "cell_type": "code",
   "execution_count": 20,
   "metadata": {},
   "outputs": [
    {
     "name": "stdout",
     "output_type": "stream",
     "text": [
      "Milk\n",
      "Vanilla Syrup\n",
      "Espresso\n",
      "\n",
      "Milk\n",
      "Caramel Syrup\n",
      "Espresso\n"
     ]
    }
   ],
   "source": [
    "def basic_latte(func):\n",
    "    def wrapper():\n",
    "        print('Milk')\n",
    "        func()\n",
    "        print('Espresso')\n",
    "    return wrapper\n",
    "\n",
    "\n",
    "def vanilla():\n",
    "    print('Vanilla Syrup')\n",
    "    \n",
    "def caramel():\n",
    "    print('Caramel Syrup')\n",
    "    \n",
    "\n",
    "vanilla_latte = basic_latte(vanilla)\n",
    "vanilla_latte()\n",
    "print()\n",
    "caramel_latte = basic_latte(caramel)\n",
    "caramel_latte()"
   ]
  },
  {
   "cell_type": "markdown",
   "metadata": {},
   "source": [
    "- @로 데코레이터 사용하기"
   ]
  },
  {
   "cell_type": "markdown",
   "metadata": {},
   "source": [
    "```\n",
    "@데코레이터\n",
    "def 함수이름():\n",
    "    코드\n",
    "```"
   ]
  },
  {
   "cell_type": "code",
   "execution_count": 21,
   "metadata": {},
   "outputs": [
    {
     "name": "stdout",
     "output_type": "stream",
     "text": [
      "Milk\n",
      "Vanilla Syrup\n",
      "Espresso\n",
      "\n",
      "Milk\n",
      "Caramel Syrup\n",
      "Espresso\n"
     ]
    }
   ],
   "source": [
    "def basic_latte(func):\n",
    "    def wrapper():\n",
    "        print('Milk')\n",
    "        func()\n",
    "        print('Espresso')\n",
    "    return wrapper\n",
    "\n",
    "\n",
    "@basic_latte\n",
    "def vanilla():\n",
    "    print('Vanilla Syrup')\n",
    "\n",
    "@basic_latte\n",
    "def caramel():\n",
    "    print('Caramel Syrup')\n",
    "    \n",
    "\n",
    "vanilla()\n",
    "print()\n",
    "caramel()"
   ]
  },
  {
   "cell_type": "markdown",
   "metadata": {},
   "source": [
    "### ※ 데코레이터를 여러 개 지정하기\n",
    "- 함수 위에 데코레이터를 여러 줄로 지정해줍니다.\n",
    "- 이때 데코레이터가 실행되는 순서는 위에서 아래 순입니다."
   ]
  },
  {
   "cell_type": "markdown",
   "metadata": {},
   "source": [
    "```\n",
    "@데코레이터1\n",
    "@데코레이터2\n",
    "def 함수이름():\n",
    "    코드\n",
    "```"
   ]
  },
  {
   "cell_type": "code",
   "execution_count": 22,
   "metadata": {},
   "outputs": [
    {
     "name": "stdout",
     "output_type": "stream",
     "text": [
      "decorator1\n",
      "decorator2\n",
      "hello\n"
     ]
    }
   ],
   "source": [
    "def decorator1(func):\n",
    "    def wrapper():\n",
    "        print('decorator1')\n",
    "        func()\n",
    "    return wrapper\n",
    " \n",
    "def decorator2(func):\n",
    "    def wrapper():\n",
    "        print('decorator2')\n",
    "        func()\n",
    "    return wrapper\n",
    " \n",
    "# 데코레이터를 여러 개 지정\n",
    "@decorator1\n",
    "@decorator2\n",
    "def hello():\n",
    "    print('hello')\n",
    " \n",
    "hello()"
   ]
  },
  {
   "cell_type": "markdown",
   "metadata": {},
   "source": [
    "- @을 사용하지 않았을 때는 다음 코드와 동작이 같습니다."
   ]
  },
  {
   "cell_type": "code",
   "execution_count": 23,
   "metadata": {},
   "outputs": [
    {
     "name": "stdout",
     "output_type": "stream",
     "text": [
      "decorator1\n",
      "decorator2\n",
      "hello\n"
     ]
    }
   ],
   "source": [
    "def decorator1(func):\n",
    "    def wrapper():\n",
    "        print('decorator1')\n",
    "        func()\n",
    "    return wrapper\n",
    " \n",
    "def decorator2(func):\n",
    "    def wrapper():\n",
    "        print('decorator2')\n",
    "        func()\n",
    "    return wrapper\n",
    "\n",
    "def hello():\n",
    "    print('hello')\n",
    " \n",
    "\n",
    "decorated_hello = decorator1(decorator2(hello))\n",
    "decorated_hello()"
   ]
  },
  {
   "cell_type": "markdown",
   "metadata": {},
   "source": [
    "## 2. 매개변수와 반환값을 처리하는 데코레이터 만들기"
   ]
  },
  {
   "cell_type": "code",
   "execution_count": 24,
   "metadata": {},
   "outputs": [
    {
     "name": "stdout",
     "output_type": "stream",
     "text": [
      "[add] a: 1, b: 3 -> 4\n",
      "4\n"
     ]
    }
   ],
   "source": [
    "def trace(func):\n",
    "    def wrapper(a, b):  # 호출할 함수 add(a, b)의 매개변수와 똑같이 지정\n",
    "        r = func(a, b)  \n",
    "        print('[{0}] a: {1}, b: {2} -> {3}'.format(func.__name__, a, b, r))\n",
    "        return r\n",
    "    return wrapper\n",
    "\n",
    "@trace\n",
    "def add(a, b):\n",
    "    return a + b\n",
    "\n",
    "print(add(1, 3))"
   ]
  },
  {
   "cell_type": "markdown",
   "metadata": {},
   "source": [
    "- 가변 인수 함수 데코레이터"
   ]
  },
  {
   "cell_type": "code",
   "execution_count": 25,
   "metadata": {},
   "outputs": [
    {
     "name": "stdout",
     "output_type": "stream",
     "text": [
      "get_max(args=(10, 20), kwargs={}) -> 20\n",
      "20\n",
      "get_min(args=(), kwargs={'x': 10, 'y': 20, 'z': 30}) -> 10\n",
      "10\n"
     ]
    }
   ],
   "source": [
    "def trace(func):                     # 호출할 함수를 매개변수로 받음\n",
    "    def wrapper(*args, **kwargs):    # 가변 인수 함수로 만듦\n",
    "        r = func(*args, **kwargs)    # func에 args, kwargs를 언패킹하여 넣어줌\n",
    "        print('{0}(args={1}, kwargs={2}) -> {3}'.format(func.__name__, args, kwargs, r))\n",
    "                                     # 매개변수와 반환값 출력\n",
    "        return r                     # func의 반환값을 반환\n",
    "    return wrapper                   # wrapper 함수 반환\n",
    " \n",
    "@trace                   # @데코레이터\n",
    "def get_max(*args):      # 위치 인수를 사용하는 가변 인수 함수\n",
    "    return max(args)\n",
    " \n",
    "@trace                   # @데코레이터\n",
    "def get_min(**kwargs):   # 키워드 인수를 사용하는 가변 인수 함수\n",
    "    return min(kwargs.values())\n",
    " \n",
    "print(get_max(10, 20))\n",
    "print(get_min(x=10, y=20, z=30))"
   ]
  },
  {
   "cell_type": "markdown",
   "metadata": {},
   "source": [
    "### ※ 메서드에 데코레이터 사용하기"
   ]
  },
  {
   "cell_type": "markdown",
   "metadata": {},
   "source": [
    "- 인스턴스 메서드는 항상 self를 받으므로 데코레이터를 만들 때도 wrapper 함수의 첫 번째 매개변수는 self로 지정해야 합니다(클래스 메서드는 cls)\n",
    "- 마찬가지로 func를 호출할 때도 self와 매개변수를 그대로 넣어야 합니다."
   ]
  },
  {
   "cell_type": "code",
   "execution_count": 26,
   "metadata": {},
   "outputs": [
    {
     "name": "stdout",
     "output_type": "stream",
     "text": [
      "add(a=10, b=20) -> 30\n",
      "30\n"
     ]
    }
   ],
   "source": [
    "def trace(func):\n",
    "    def wrapper(self, a, b):   # 호출할 함수가 인스턴스 메서드이므로 첫 번째 매개변수는 self로 지정\n",
    "        r = func(self, a, b)   # self와 매개변수를 그대로 넣어줌\n",
    "        print('{0}(a={1}, b={2}) -> {3}'.format(func.__name__, a, b, r))   # 매개변수와 반환값 출력\n",
    "        return r               # func의 반환값을 반환\n",
    "    return wrapper\n",
    " \n",
    "class Calc:\n",
    "    @trace\n",
    "    def add(self, a, b):    # add는 인스턴스 메서드\n",
    "        return a + b\n",
    " \n",
    "c = Calc()\n",
    "print(c.add(10, 20))"
   ]
  },
  {
   "cell_type": "markdown",
   "metadata": {},
   "source": [
    "## 3. 매개변수가 있는 데코레이터 만들기"
   ]
  },
  {
   "cell_type": "markdown",
   "metadata": {},
   "source": [
    "- 매개변수가 있는 데코레이터를 만들 때는 함수를 하나 더 만들어야 합니다."
   ]
  },
  {
   "cell_type": "code",
   "execution_count": 30,
   "metadata": {
    "scrolled": true
   },
   "outputs": [
    {
     "name": "stdout",
     "output_type": "stream",
     "text": [
      "add의 반환값은 3의 배수입니다.\n",
      "30\n",
      "add의 반환값은 3의 배수가 아닙니다.\n",
      "7\n"
     ]
    }
   ],
   "source": [
    "def is_multiple(x):              # 데코레이터가 사용할 매개변수를 지정\n",
    "    def real_decorator(func):    # 호출할 함수를 매개변수로 받음\n",
    "        def wrapper(a, b):       # 호출할 함수의 매개변수와 똑같이 지정\n",
    "            r = func(a, b)       # func를 호출하고 반환값을 변수에 저장\n",
    "            if r % x == 0:       # func의 반환값이 x의 배수인지 확인\n",
    "                print('{0}의 반환값은 {1}의 배수입니다.'.format(func.__name__, x))\n",
    "            else:\n",
    "                print('{0}의 반환값은 {1}의 배수가 아닙니다.'.format(func.__name__, x))\n",
    "            return r             # func의 반환값을 반환\n",
    "        return wrapper           # wrapper 함수 반환\n",
    "    return real_decorator        # real_decorator 함수 반환\n",
    " \n",
    "@is_multiple(3)     # @데코레이터(인수)\n",
    "def add(a, b):\n",
    "    return a + b\n",
    " \n",
    "print(add(10, 20))\n",
    "print(add(2, 5))"
   ]
  },
  {
   "cell_type": "markdown",
   "metadata": {},
   "source": [
    "- 매개변수가 있는 데코레이터를 여러 개 지정하기"
   ]
  },
  {
   "cell_type": "code",
   "execution_count": 32,
   "metadata": {},
   "outputs": [
    {
     "name": "stdout",
     "output_type": "stream",
     "text": [
      "add의 반환값은 7의 배수가 아닙니다.\n",
      "wrapper의 반환값은 3의 배수입니다.\n"
     ]
    },
    {
     "data": {
      "text/plain": [
       "30"
      ]
     },
     "execution_count": 32,
     "metadata": {},
     "output_type": "execute_result"
    }
   ],
   "source": [
    "@is_multiple(3)\n",
    "@is_multiple(7)\n",
    "def add(a, b):\n",
    "    return a + b\n",
    " \n",
    "add(10, 20)"
   ]
  },
  {
   "cell_type": "markdown",
   "metadata": {},
   "source": [
    "### ※ 원래 함수 이름이 안나온다면?"
   ]
  },
  {
   "cell_type": "markdown",
   "metadata": {},
   "source": [
    "- 함수의 원래 이름을 출력하고 싶다면 functools 모듈의 wraps 데코레이터를 사용해야 합니다. 다음과 같이 @functools.wraps에 func를 넣은 뒤 wrapper 함수 위에 지정해줍니다(from functools import wraps로 데코레이터를 가져왔다면 @wraps(func)를 지정).\n",
    "- @functools.wraps는 원래 함수의 정보를 유지시켜줍니다. 따라서 디버깅을 할 때 유용하므로 데코레이터를 만들 때는 @functools.wraps를 사용하는 것이 좋습니다."
   ]
  },
  {
   "cell_type": "code",
   "execution_count": 34,
   "metadata": {
    "scrolled": true
   },
   "outputs": [
    {
     "name": "stdout",
     "output_type": "stream",
     "text": [
      "add의 반환값은 7의 배수가 아닙니다.\n",
      "add의 반환값은 3의 배수입니다.\n"
     ]
    },
    {
     "data": {
      "text/plain": [
       "30"
      ]
     },
     "execution_count": 34,
     "metadata": {},
     "output_type": "execute_result"
    }
   ],
   "source": [
    "import functools\n",
    "\n",
    "\n",
    "def is_multiple(x):\n",
    "    def real_decorator(func):\n",
    "        @functools.wraps(func)    # @functools.wraps에 func를 넣은 뒤 wrapper 함수 위에 지정\n",
    "        def wrapper(a, b):\n",
    "            r = func(a, b)\n",
    "            if r % x == 0:\n",
    "                print('{0}의 반환값은 {1}의 배수입니다.'.format(func.__name__, x))\n",
    "            else:\n",
    "                print('{0}의 반환값은 {1}의 배수가 아닙니다.'.format(func.__name__, x))\n",
    "            return r\n",
    "        return wrapper\n",
    "    return real_decorator\n",
    " \n",
    "@is_multiple(3)\n",
    "@is_multiple(7)\n",
    "def add(a, b):\n",
    "    return a + b\n",
    " \n",
    "add(10, 20)"
   ]
  },
  {
   "cell_type": "markdown",
   "metadata": {},
   "source": [
    "## 4. 클래스로 데코레이터 만들기"
   ]
  },
  {
   "cell_type": "markdown",
   "metadata": {},
   "source": [
    "- 클래스를 활용할 때는 인스턴스를 함수처럼 호출하게 해주는 \\_\\_call__ 메서드를 구현해야 합니다."
   ]
  },
  {
   "cell_type": "code",
   "execution_count": 36,
   "metadata": {},
   "outputs": [
    {
     "name": "stdout",
     "output_type": "stream",
     "text": [
      "hello 함수 시작\n",
      "hello\n",
      "hello 함수 끝\n"
     ]
    }
   ],
   "source": [
    "class Trace:\n",
    "    def __init__(self, func):  # 호출할 함수를 인스턴스의 초깃값으로 받음\n",
    "        self.func = func  # 호출할 함수를 속성 func에 저장\n",
    "        \n",
    "    def __call__(self):\n",
    "        print(self.func.__name__, '함수 시작')\n",
    "        self.func()\n",
    "        print(self.func.__name__, '함수 끝')\n",
    "        \n",
    "@Trace  # 데코레이터\n",
    "def hello():\n",
    "    print('hello')\n",
    "    \n",
    "hello()"
   ]
  },
  {
   "cell_type": "markdown",
   "metadata": {},
   "source": [
    "- 클래스로 만든 데코레이터는 @을 지정하지 않고, 데코레이터의 반환값을 호출하는 방식으로도 사용할 수 있습니다.\n",
    "- 클래스에 \\_\\_call__ 메서드를 정의했으므로 함수처럼 ( )(괄호)를 붙여서 호출할 수 있습니다."
   ]
  },
  {
   "cell_type": "code",
   "execution_count": 38,
   "metadata": {},
   "outputs": [
    {
     "name": "stdout",
     "output_type": "stream",
     "text": [
      "hello 함수 시작\n",
      "hello\n",
      "hello 함수 끝\n"
     ]
    }
   ],
   "source": [
    "def hello():    # @데코레이터를 지정하지 않음\n",
    "    print('hello')\n",
    " \n",
    "trace_hello = Trace(hello)    # 데코레이터에 호출할 함수를 넣어서 인스턴스 생성\n",
    "trace_hello()                 # 인스턴스를 호출. __call__ 메서드가 호출됨"
   ]
  },
  {
   "cell_type": "markdown",
   "metadata": {},
   "source": [
    "## 5. 클래스로 매개변수와 반환값을 처리하는 데코레이터 만들기"
   ]
  },
  {
   "cell_type": "code",
   "execution_count": 39,
   "metadata": {},
   "outputs": [
    {
     "name": "stdout",
     "output_type": "stream",
     "text": [
      "add(args=(10, 20), kwargs={}) -> 30\n",
      "30\n",
      "add(args=(), kwargs={'a': 10, 'b': 20}) -> 30\n",
      "30\n"
     ]
    }
   ],
   "source": [
    "class Trace:\n",
    "    def __init__(self, func):    # 호출할 함수를 인스턴스의 초깃값으로 받음\n",
    "        self.func = func         # 호출할 함수를 속성 func에 저장\n",
    " \n",
    "    def __call__(self, *args, **kwargs):    # 호출할 함수의 매개변수를 처리\n",
    "        r = self.func(*args, **kwargs) # self.func에 매개변수를 넣어서 호출하고 반환값을 변수에 저장\n",
    "        print('{0}(args={1}, kwargs={2}) -> {3}'.format(self.func.__name__, args, kwargs, r))\n",
    "                                            # 매개변수와 반환값 출력\n",
    "        return r                            # self.func의 반환값을 반환\n",
    " \n",
    "@Trace    # @데코레이터\n",
    "def add(a, b):\n",
    "    return a + b\n",
    " \n",
    "print(add(10, 20))\n",
    "print(add(a=10, b=20))"
   ]
  },
  {
   "cell_type": "markdown",
   "metadata": {},
   "source": [
    "- 클래스로 매개변수가 있는 데코레이터 만들기"
   ]
  },
  {
   "cell_type": "code",
   "execution_count": 40,
   "metadata": {},
   "outputs": [
    {
     "name": "stdout",
     "output_type": "stream",
     "text": [
      "add의 반환값은 3의 배수입니다.\n",
      "30\n",
      "add의 반환값은 3의 배수가 아닙니다.\n",
      "7\n"
     ]
    }
   ],
   "source": [
    "class IsMultiple:\n",
    "    def __init__(self, x):         # 데코레이터가 사용할 매개변수를 초깃값으로 받음\n",
    "        self.x = x                 # 매개변수를 속성 x에 저장\n",
    " \n",
    "    def __call__(self, func):      # 호출할 함수를 매개변수로 받음\n",
    "        def wrapper(a, b):         # 호출할 함수의 매개변수와 똑같이 지정(가변 인수로 작성해도 됨)\n",
    "            r = func(a, b)         # func를 호출하고 반환값을 변수에 저장\n",
    "            if r % self.x == 0:    # func의 반환값이 self.x의 배수인지 확인\n",
    "                print('{0}의 반환값은 {1}의 배수입니다.'.format(func.__name__, self.x))\n",
    "            else:\n",
    "                print('{0}의 반환값은 {1}의 배수가 아닙니다.'.format(func.__name__, self.x))\n",
    "            return r               # func의 반환값을 반환\n",
    "        return wrapper             # wrapper 함수 반환\n",
    " \n",
    "@IsMultiple(3)    # 데코레이터(인수)\n",
    "def add(a, b):\n",
    "    return a + b\n",
    "\n",
    "\n",
    "print(add(10, 20))\n",
    "print(add(2, 5))"
   ]
  },
  {
   "cell_type": "markdown",
   "metadata": {},
   "source": [
    "## 42.8 심사문제 - HTML 태그 데코레이터 만들기"
   ]
  },
  {
   "cell_type": "code",
   "execution_count": 49,
   "metadata": {},
   "outputs": [
    {
     "name": "stdout",
     "output_type": "stream",
     "text": [
      "span p\n",
      "<span><p>Hello, world!</p></span>\n"
     ]
    }
   ],
   "source": [
    "def html_tag(tag):\n",
    "    def real_decorator(func):\n",
    "        def wrapper():\n",
    "            return '<' + tag + '>'+ func() + '</' + tag + '>'\n",
    "        return wrapper\n",
    "    return real_decorator\n",
    "\n",
    "\n",
    "a, b = input().split()\n",
    " \n",
    "@html_tag(a)\n",
    "@html_tag(b)\n",
    "def hello():\n",
    "    return 'Hello, world!'\n",
    " \n",
    "print(hello())"
   ]
  }
 ],
 "metadata": {
  "kernelspec": {
   "display_name": "Python 3",
   "language": "python",
   "name": "python3"
  },
  "language_info": {
   "codemirror_mode": {
    "name": "ipython",
    "version": 3
   },
   "file_extension": ".py",
   "mimetype": "text/x-python",
   "name": "python",
   "nbconvert_exporter": "python",
   "pygments_lexer": "ipython3",
   "version": "3.8.5"
  }
 },
 "nbformat": 4,
 "nbformat_minor": 4
}
