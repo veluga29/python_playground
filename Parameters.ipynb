{
 "cells": [
  {
   "cell_type": "markdown",
   "metadata": {},
   "source": [
    "# # 함수에서 위치 인수와 키워드 인수 사용하기"
   ]
  },
  {
   "cell_type": "markdown",
   "metadata": {},
   "source": [
    "## 위치 인수 VS 키워드 인수 / 고정 인수 VS 가변 인수"
   ]
  },
  {
   "cell_type": "markdown",
   "metadata": {},
   "source": [
    "## - Positional argument (위치 인수)"
   ]
  },
  {
   "cell_type": "code",
   "execution_count": 65,
   "metadata": {},
   "outputs": [],
   "source": [
    "def print_nums(a, b, c):\n",
    "    print(a)\n",
    "    print(b)\n",
    "    print(c)"
   ]
  },
  {
   "cell_type": "markdown",
   "metadata": {},
   "source": [
    "- Variable argument (가변 인수)"
   ]
  },
  {
   "cell_type": "code",
   "execution_count": 20,
   "metadata": {},
   "outputs": [],
   "source": [
    "# 가변 인수 함수 만들기\n",
    "def print_nums(*args):  # args는 임의로 명명하면됨, 타입은 튜플임\n",
    "    for arg in args:\n",
    "        print(arg)"
   ]
  },
  {
   "cell_type": "code",
   "execution_count": 21,
   "metadata": {},
   "outputs": [],
   "source": [
    "print_nums()  # 인수를 넣지 않아도 됨"
   ]
  },
  {
   "cell_type": "code",
   "execution_count": 22,
   "metadata": {},
   "outputs": [
    {
     "name": "stdout",
     "output_type": "stream",
     "text": [
      "10\n"
     ]
    }
   ],
   "source": [
    "print_nums(10)"
   ]
  },
  {
   "cell_type": "code",
   "execution_count": 23,
   "metadata": {},
   "outputs": [
    {
     "name": "stdout",
     "output_type": "stream",
     "text": [
      "10\n",
      "20\n",
      "30\n"
     ]
    }
   ],
   "source": [
    "print_nums(10, 20, 30)"
   ]
  },
  {
   "cell_type": "code",
   "execution_count": 24,
   "metadata": {},
   "outputs": [
    {
     "name": "stdout",
     "output_type": "stream",
     "text": [
      "10\n",
      "20\n",
      "30\n"
     ]
    }
   ],
   "source": [
    "# 리스트 언패킹\n",
    "x = [10]\n",
    "y = [20, 30]\n",
    "print_nums(*x)\n",
    "print_nums(*y)"
   ]
  },
  {
   "cell_type": "markdown",
   "metadata": {},
   "source": [
    "- 고정 인수 & 가변 인수 혼합"
   ]
  },
  {
   "cell_type": "code",
   "execution_count": 25,
   "metadata": {},
   "outputs": [],
   "source": [
    "def print_nums(a, *args):  # 가변인수는 반드시 고정인수 뒤에 위치해야 함\n",
    "    print(a)\n",
    "    print(args)"
   ]
  },
  {
   "cell_type": "code",
   "execution_count": 28,
   "metadata": {},
   "outputs": [
    {
     "name": "stdout",
     "output_type": "stream",
     "text": [
      "1\n",
      "()\n"
     ]
    }
   ],
   "source": [
    "print_nums(1)"
   ]
  },
  {
   "cell_type": "code",
   "execution_count": 29,
   "metadata": {},
   "outputs": [
    {
     "name": "stdout",
     "output_type": "stream",
     "text": [
      "10\n",
      "(20, 30)\n"
     ]
    }
   ],
   "source": [
    "print_nums(10, 20, 30)"
   ]
  },
  {
   "cell_type": "code",
   "execution_count": 30,
   "metadata": {},
   "outputs": [
    {
     "name": "stdout",
     "output_type": "stream",
     "text": [
      "10\n",
      "(20, 30)\n"
     ]
    }
   ],
   "source": [
    "print_nums(*[10, 20, 30])"
   ]
  },
  {
   "cell_type": "markdown",
   "metadata": {},
   "source": [
    "## - Keyword argument (키워드 인수)"
   ]
  },
  {
   "cell_type": "code",
   "execution_count": 31,
   "metadata": {},
   "outputs": [],
   "source": [
    "def personal_info(name, age, address):\n",
    "    print('이름: ', name)\n",
    "    print('나이: ', age)\n",
    "    print('주소: ', address)"
   ]
  },
  {
   "cell_type": "code",
   "execution_count": 32,
   "metadata": {},
   "outputs": [
    {
     "name": "stdout",
     "output_type": "stream",
     "text": [
      "이름:  Welsh Corgi\n",
      "나이:  2\n",
      "주소:  집사 마음속\n"
     ]
    }
   ],
   "source": [
    "personal_info(name='Welsh Corgi', age=2, address='집사 마음속')"
   ]
  },
  {
   "cell_type": "code",
   "execution_count": 33,
   "metadata": {},
   "outputs": [
    {
     "name": "stdout",
     "output_type": "stream",
     "text": [
      "이름:  Welsh Corgi\n",
      "나이:  2\n",
      "주소:  집사 마음속\n"
     ]
    }
   ],
   "source": [
    "personal_info(age=2, address='집사 마음속', name='Welsh Corgi')"
   ]
  },
  {
   "cell_type": "code",
   "execution_count": 36,
   "metadata": {},
   "outputs": [
    {
     "name": "stdout",
     "output_type": "stream",
     "text": [
      "이름:  Welsh Corgi\n",
      "나이:  2\n",
      "주소:  집사 마음속\n"
     ]
    }
   ],
   "source": [
    "# 딕셔너리 언패킹\n",
    "x = {'name':'Welsh Corgi', 'age':2, 'address':'집사 마음속'}\n",
    "personal_info(**x)"
   ]
  },
  {
   "cell_type": "code",
   "execution_count": 48,
   "metadata": {},
   "outputs": [
    {
     "name": "stdout",
     "output_type": "stream",
     "text": [
      "이름:  Welsh Corgi\n",
      "나이:  2\n",
      "주소:  집사 마음속\n"
     ]
    }
   ],
   "source": [
    "personal_info(**{'address':'집사 마음속', 'name':'Welsh Corgi', 'age':2})"
   ]
  },
  {
   "cell_type": "code",
   "execution_count": 51,
   "metadata": {},
   "outputs": [
    {
     "name": "stdout",
     "output_type": "stream",
     "text": [
      "이름:  address\n",
      "나이:  name\n",
      "주소:  age\n"
     ]
    }
   ],
   "source": [
    "# 딕셔너리를 한 번 언패킹하면 키가 출력됨, 심지어 위치인수로 적용\n",
    "personal_info(*{'address':'집사 마음속', 'name':'Welsh Corgi', 'age':2})  "
   ]
  },
  {
   "cell_type": "code",
   "execution_count": 46,
   "metadata": {},
   "outputs": [
    {
     "ename": "TypeError",
     "evalue": "'name' is an invalid keyword argument for print()",
     "output_type": "error",
     "traceback": [
      "\u001b[1;31m---------------------------------------------------------------------------\u001b[0m",
      "\u001b[1;31mTypeError\u001b[0m                                 Traceback (most recent call last)",
      "\u001b[1;32m<ipython-input-46-fed78e75f642>\u001b[0m in \u001b[0;36m<module>\u001b[1;34m\u001b[0m\n\u001b[1;32m----> 1\u001b[1;33m \u001b[0mprint\u001b[0m\u001b[1;33m(\u001b[0m\u001b[1;33m**\u001b[0m\u001b[0mx\u001b[0m\u001b[1;33m)\u001b[0m\u001b[1;33m\u001b[0m\u001b[1;33m\u001b[0m\u001b[0m\n\u001b[0m",
      "\u001b[1;31mTypeError\u001b[0m: 'name' is an invalid keyword argument for print()"
     ]
    }
   ],
   "source": [
    "print(**x)  # 키워드 인수를 받지 않는 함수에는 적용 어려움"
   ]
  },
  {
   "cell_type": "markdown",
   "metadata": {},
   "source": [
    "- 키워드 가변 인수"
   ]
  },
  {
   "cell_type": "code",
   "execution_count": 54,
   "metadata": {},
   "outputs": [],
   "source": [
    "def personal_info(**kwargs):  # kwargs는 딕셔너리\n",
    "    for kw, args in kwargs.items():\n",
    "        print(kw, ': ', args, sep='' )"
   ]
  },
  {
   "cell_type": "code",
   "execution_count": 55,
   "metadata": {},
   "outputs": [
    {
     "name": "stdout",
     "output_type": "stream",
     "text": [
      "name: Welsh Corgi\n"
     ]
    }
   ],
   "source": [
    "personal_info(name='Welsh Corgi')  # 하나만 입력해도 됨"
   ]
  },
  {
   "cell_type": "code",
   "execution_count": 56,
   "metadata": {},
   "outputs": [],
   "source": [
    "personal_info()"
   ]
  },
  {
   "cell_type": "code",
   "execution_count": 58,
   "metadata": {},
   "outputs": [
    {
     "name": "stdout",
     "output_type": "stream",
     "text": [
      "age: 3\n",
      "name: Welsh Corgi\n"
     ]
    }
   ],
   "source": [
    "x = {'age':3, 'name':'Welsh Corgi'}\n",
    "personal_info(**x)"
   ]
  },
  {
   "cell_type": "code",
   "execution_count": 59,
   "metadata": {},
   "outputs": [],
   "source": [
    "def personal_info(**kwargs):\n",
    "    if 'name' in kwargs:    # in으로 딕셔너리 안에 특정 키가 있는지 확인\n",
    "        print('이름: ', kwargs['name'])\n",
    "    if 'age' in kwargs:\n",
    "        print('나이: ', kwargs['age'])\n",
    "    if 'address' in kwargs:\n",
    "        print('주소: ', kwargs['address'])"
   ]
  },
  {
   "cell_type": "code",
   "execution_count": 64,
   "metadata": {},
   "outputs": [
    {
     "name": "stdout",
     "output_type": "stream",
     "text": [
      "나이:  33\n"
     ]
    }
   ],
   "source": [
    "personal_info(**{'age':'33', 'ds':2})"
   ]
  },
  {
   "cell_type": "markdown",
   "metadata": {},
   "source": [
    "- 고정 인수 & 키워드 가변 인수 혼합"
   ]
  },
  {
   "cell_type": "code",
   "execution_count": 69,
   "metadata": {},
   "outputs": [
    {
     "name": "stdout",
     "output_type": "stream",
     "text": [
      "홍길동\n",
      "{}\n"
     ]
    }
   ],
   "source": [
    "def personal_info(name, **kwargs):  # 고정 매개변수가 가변 매개변수보다 앞에 와야 함\n",
    "    print(name)\n",
    "    print(kwargs)\n",
    "\n",
    "\n",
    "personal_info('홍길동')"
   ]
  },
  {
   "cell_type": "code",
   "execution_count": 71,
   "metadata": {},
   "outputs": [
    {
     "name": "stdout",
     "output_type": "stream",
     "text": [
      "홍길동\n",
      "{'age': 30, 'address': '서울시 용산구 이촌동'}\n"
     ]
    }
   ],
   "source": [
    "personal_info(**{'name': '홍길동', 'age': 30, 'address': '서울시 용산구 이촌동'})"
   ]
  },
  {
   "cell_type": "markdown",
   "metadata": {},
   "source": [
    "### ※ 항상 고정 매개변수, 위치 가변 매개변수, 키워드 가변 매개변수 순으로 사용해야 함"
   ]
  },
  {
   "cell_type": "code",
   "execution_count": 74,
   "metadata": {},
   "outputs": [
    {
     "name": "stdout",
     "output_type": "stream",
     "text": [
      "1:2:3"
     ]
    }
   ],
   "source": [
    "def custom_print(*args, **kwargs):\n",
    "    print(*args, **kwargs)\n",
    "\n",
    "custom_print(1, 2, 3, sep=':', end='')"
   ]
  },
  {
   "cell_type": "code",
   "execution_count": 77,
   "metadata": {
    "scrolled": true
   },
   "outputs": [
    {
     "name": "stdout",
     "output_type": "stream",
     "text": [
      "1:3"
     ]
    }
   ],
   "source": [
    "def custom_print(a, b, *args, **kwargs):\n",
    "    print(a, *args, **kwargs)\n",
    "\n",
    "custom_print(1, 2, 3, sep=':', end='')"
   ]
  },
  {
   "cell_type": "markdown",
   "metadata": {},
   "source": [
    "### ※ 매개변수에 초깃값 설정 시, 초깃값을 설정한 매개변수들은 위치를 뒤쪽으로 몰아야 함"
   ]
  },
  {
   "cell_type": "code",
   "execution_count": 80,
   "metadata": {},
   "outputs": [
    {
     "ename": "SyntaxError",
     "evalue": "non-default argument follows default argument (<ipython-input-80-8fdbd12a7578>, line 1)",
     "output_type": "error",
     "traceback": [
      "\u001b[1;36m  File \u001b[1;32m\"<ipython-input-80-8fdbd12a7578>\"\u001b[1;36m, line \u001b[1;32m1\u001b[0m\n\u001b[1;33m    def personal_info(name, address='비공개', age):\u001b[0m\n\u001b[1;37m                      ^\u001b[0m\n\u001b[1;31mSyntaxError\u001b[0m\u001b[1;31m:\u001b[0m non-default argument follows default argument\n"
     ]
    }
   ],
   "source": [
    "def personal_info(name, address='비공개', age):\n",
    "    pass"
   ]
  },
  {
   "cell_type": "code",
   "execution_count": 81,
   "metadata": {},
   "outputs": [],
   "source": [
    "def personal_info(name, age, address='비공개'):\n",
    "    pass"
   ]
  },
  {
   "cell_type": "code",
   "execution_count": null,
   "metadata": {},
   "outputs": [],
   "source": []
  },
  {
   "cell_type": "code",
   "execution_count": null,
   "metadata": {},
   "outputs": [],
   "source": [
    "def get_min_max_score(*args):\n",
    "    return min(args), max(args)\n",
    "\n",
    "def get_average(**kwargs):\n",
    "    return sum(kwargs.values()) / len(kwargs)"
   ]
  }
 ],
 "metadata": {
  "kernelspec": {
   "display_name": "Python 3",
   "language": "python",
   "name": "python3"
  },
  "language_info": {
   "codemirror_mode": {
    "name": "ipython",
    "version": 3
   },
   "file_extension": ".py",
   "mimetype": "text/x-python",
   "name": "python",
   "nbconvert_exporter": "python",
   "pygments_lexer": "ipython3",
   "version": "3.8.5"
  }
 },
 "nbformat": 4,
 "nbformat_minor": 4
}
